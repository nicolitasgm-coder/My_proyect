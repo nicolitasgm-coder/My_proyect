{
 "cells": [
  {
   "cell_type": "code",
   "execution_count": null,
   "id": "19285018",
   "metadata": {
    "vscode": {
     "languageId": "plaintext"
    }
   },
   "outputs": [],
   "source": [
    "import pandas as pd\n",
    "import plotly.express as px\n",
    "\n",
    "car_data = pd.read_csv('../vehicles_us.csv')\n",
    "fig = px.histogram(car_data, x=\"odometer\")\n",
    "fig.show()\n"
   ]
  }
 ],
 "metadata": {
  "language_info": {
   "name": "python"
  }
 },
 "nbformat": 4,
 "nbformat_minor": 5
}
